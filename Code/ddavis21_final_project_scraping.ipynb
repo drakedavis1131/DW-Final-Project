{
 "cells": [
  {
   "cell_type": "markdown",
   "id": "cef86832",
   "metadata": {},
   "source": [
    "# Drake Davis\n",
    "# Project Proposal Jupyter Notebook"
   ]
  },
  {
   "cell_type": "code",
   "execution_count": null,
   "id": "f9a27478",
   "metadata": {},
   "outputs": [],
   "source": [
    "import time, re\n",
    "from datetime import datetime, timedelta, date\n",
    "from pathlib import Path\n",
    "import pandas as pd\n",
    "from selenium import webdriver\n",
    "from selenium.webdriver.chrome.options import Options\n",
    "from selenium.webdriver.common.by import By"
   ]
  },
  {
   "cell_type": "markdown",
   "id": "1c1303f7",
   "metadata": {},
   "source": [
    "# Kaggle data setup"
   ]
  },
  {
   "cell_type": "markdown",
   "id": "64dd736f",
   "metadata": {},
   "source": [
    "##### Using: https://www.kaggle.com/datasets/rounakbanik/the-movies-dataset?resource=download"
   ]
  },
  {
   "cell_type": "code",
   "execution_count": null,
   "id": "a0433b3d",
   "metadata": {},
   "outputs": [],
   "source": [
    "KAGGLE_CSV      = Path(r\"movies_metadata.csv\")\n",
    "HEADLESS        = True                       \n",
    "TARGET_STUDIOS  = [\"Warner Bros.\", \"Universal\", \"Disney\", \"Sony\", \"Paramount\"]\n",
    "OUT_FILE        = \"daily_boxoffice_2017_2020.csv\""
   ]
  },
  {
   "cell_type": "code",
   "execution_count": 29,
   "id": "4cfc4b48",
   "metadata": {},
   "outputs": [],
   "source": [
    "# Setup\n",
    "\n",
    "earliest_date = date(2017, 1, 1)\n",
    "latest_date   = date(2020, 12, 31)\n",
    "\n",
    "\n",
    "#   Build URLs\n",
    "base_url = \"https://www.the-numbers.com/box-office-chart/daily/\"\n",
    "daily_urls = [\n",
    "    base_url + d.strftime(\"%Y/%m/%d\")\n",
    "    for d in pd.date_range(earliest_date, latest_date, freq=\"D\")\n",
    "\n",
    "]\n"
   ]
  },
  {
   "cell_type": "markdown",
   "id": "39d46064",
   "metadata": {},
   "source": [
    "# Scraping weekend charts from the-numbers.com"
   ]
  },
  {
   "cell_type": "code",
   "execution_count": null,
   "id": "d922e671",
   "metadata": {},
   "outputs": [],
   "source": [
    "# Web scraping script 1\n",
    "\n",
    "opts = Options()\n",
    "if HEADLESS:\n",
    "    opts.add_argument(\"--headless=new\")\n",
    "opts.add_argument(\"--log-level=3\")\n",
    "driver = webdriver.Chrome(options=opts)\n",
    "\n",
    "rows_out = []\n",
    "for url in daily_urls:\n",
    "    driver.get(url)\n",
    "    time.sleep(1.0)                            # polite wait\n",
    "\n",
    "    page_date = \"/\".join(url.split(\"/\")[-3:])  # YYYY/MM/DD\n",
    "    for tr in driver.find_elements(By.CSS_SELECTOR, \"table tbody tr\"):\n",
    "        tds = tr.find_elements(By.TAG_NAME, \"td\")\n",
    "        if len(tds) < 11:\n",
    "            continue\n",
    "\n",
    "        try:\n",
    "            studio = tds[3].text.strip()\n",
    "            if not any(s.lower() in studio.lower() for s in TARGET_STUDIOS):\n",
    "                continue\n",
    "\n",
    "            title  = tds[2].text.strip()\n",
    "            daily  = float(re.sub(r\"[$,]\", \"\", tds[4].text) or 0)\n",
    "            theaters_txt = tds[7].text.replace(\",\", \"\")\n",
    "            theaters = int(theaters_txt) if theaters_txt.isdigit() else None\n",
    "            total  = float(re.sub(r\"[$,]\", \"\", tds[9].text) or 0)\n",
    "\n",
    "            rows_out.append({\n",
    "                \"date\": page_date,\n",
    "                \"title\": title,\n",
    "                \"studio\": studio,\n",
    "                \"daily_gross\": daily,\n",
    "                \"theaters\": theaters,\n",
    "                \"total_gross\": total\n",
    "            })\n",
    "        except Exception as e:\n",
    "            print(f\"[{page_date}] Skip row — {e}\")\n",
    "\n",
    "driver.quit()"
   ]
  },
  {
   "cell_type": "code",
   "execution_count": null,
   "id": "dfc7b2b2",
   "metadata": {},
   "outputs": [
    {
     "name": "stdout",
     "output_type": "stream",
     "text": [
      "Scraped 21,196 rows across 1,314 days.\n",
      "✅  Saved daily_boxoffice_2017_2020.csv\n"
     ]
    }
   ],
   "source": [
    "# Save to csv/xlsx\n",
    "\n",
    "df_daily = pd.DataFrame(rows_out)\n",
    "print(f\"Scraped {len(df_daily):,} rows across {df_daily['date'].nunique():,} days.\")\n",
    "df_daily.to_csv(OUT_FILE, index=False)"
   ]
  },
  {
   "cell_type": "markdown",
   "id": "3f159a59",
   "metadata": {},
   "source": [
    "# Integration/Cleaning"
   ]
  },
  {
   "cell_type": "code",
   "execution_count": 37,
   "id": "8664462f",
   "metadata": {},
   "outputs": [],
   "source": [
    "KAGGLE_CSV = Path(\"movies_metadata.csv\")\n",
    "NUMBERS_CSV = Path(\"daily_boxoffice_2017_2020.csv\")          \n",
    "OUT_FILE    = \"movies_boxoffice_2017_2020_merged.csv\""
   ]
  },
  {
   "cell_type": "code",
   "execution_count": 38,
   "id": "98cc78c8",
   "metadata": {},
   "outputs": [],
   "source": [
    "def clean_title(txt: str) -> str:\n",
    "    \"\"\"Upper‑case alphanumerics only (for deterministic joins).\"\"\"\n",
    "    return re.sub(r\"[^A-Z0-9 ]\", \"\", str(txt).upper()).strip()"
   ]
  },
  {
   "cell_type": "code",
   "execution_count": 39,
   "id": "324c2fc4",
   "metadata": {},
   "outputs": [],
   "source": [
    "# Loading kaggle data\n",
    "\n",
    "meta = (\n",
    "    pd.read_csv(KAGGLE_CSV, low_memory=False,\n",
    "                usecols=[\"title\", \"budget\", \"runtime\", \"genres\", \"release_date\"])\n",
    "      .assign(\n",
    "          release_date=lambda d: pd.to_datetime(d[\"release_date\"], errors=\"coerce\"),\n",
    "          budget=lambda d: pd.to_numeric(d[\"budget\"], errors=\"coerce\"),\n",
    "          runtime=lambda d: pd.to_numeric(d[\"runtime\"], errors=\"coerce\"),\n",
    "      )\n",
    "      .dropna(subset=[\"title\", \"release_date\"])\n",
    "      .query(\"release_date.dt.year.between(2017, 2020)\")\n",
    ")\n",
    "\n",
    "meta[\"release_year\"] = meta[\"release_date\"].dt.year\n",
    "meta[\"title_clean\"]  = meta[\"title\"].apply(clean_title)\n"
   ]
  },
  {
   "cell_type": "code",
   "execution_count": 40,
   "id": "363b2ee1",
   "metadata": {},
   "outputs": [],
   "source": [
    "# Loading the numbers data\n",
    "\n",
    "box = (\n",
    "    pd.read_csv(NUMBERS_CSV, parse_dates=[\"date\"])\n",
    "      .rename(columns={\"date\": \"calendar_date\"})\n",
    ")\n",
    "\n",
    "# keep the first calendar appearance as “release” row\n",
    "box = (\n",
    "    box.sort_values([\"title\", \"calendar_date\"])\n",
    "        .groupby(\"title\", as_index=False)\n",
    "        .first()\n",
    ")\n",
    "\n",
    "box[\"release_year\"] = box[\"calendar_date\"].dt.year\n",
    "box[\"title_clean\"]  = box[\"title\"].apply(clean_title)\n"
   ]
  },
  {
   "cell_type": "code",
   "execution_count": 41,
   "id": "8f7cb303",
   "metadata": {},
   "outputs": [
    {
     "name": "stdout",
     "output_type": "stream",
     "text": [
      "Rows after merge: 303\n",
      "Matched Kaggle budgets for 35 titles (11.6%)\n",
      "  Saved movies_boxoffice_2017_2020_merged.csv\n"
     ]
    }
   ],
   "source": [
    "# Merge\n",
    "\n",
    "merged = (\n",
    "    box.merge(meta, on=[\"title_clean\", \"release_year\"], how=\"left\",\n",
    "              suffixes=(\"\", \"_kaggle\"))\n",
    ")\n",
    "\n",
    "print(f\"Rows after merge: {len(merged):,}\")\n",
    "print(f\"Matched Kaggle budgets for {merged['budget'].notna().sum():,} titles \"\n",
    "      f\"({merged['budget'].notna().mean():.1%})\")\n",
    "\n",
    "merged.to_csv(OUT_FILE, index=False)\n",
    "print(f\"  Saved {OUT_FILE}\")"
   ]
  },
  {
   "cell_type": "code",
   "execution_count": null,
   "id": "e30f7338",
   "metadata": {},
   "outputs": [],
   "source": []
  }
 ],
 "metadata": {
  "kernelspec": {
   "display_name": "base",
   "language": "python",
   "name": "python3"
  },
  "language_info": {
   "codemirror_mode": {
    "name": "ipython",
    "version": 3
   },
   "file_extension": ".py",
   "mimetype": "text/x-python",
   "name": "python",
   "nbconvert_exporter": "python",
   "pygments_lexer": "ipython3",
   "version": "3.12.7"
  }
 },
 "nbformat": 4,
 "nbformat_minor": 5
}

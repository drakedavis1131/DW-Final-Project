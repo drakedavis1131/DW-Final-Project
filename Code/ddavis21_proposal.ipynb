{
 "cells": [
  {
   "cell_type": "markdown",
   "id": "f942610e",
   "metadata": {},
   "source": [
    "# Drake Davis\n",
    "# Project Proposal Jupyter Notebook"
   ]
  },
  {
   "cell_type": "code",
   "execution_count": 2,
   "id": "814d6181",
   "metadata": {},
   "outputs": [],
   "source": [
    "from selenium import webdriver\n",
    "from selenium.webdriver.chrome.options import Options\n",
    "from selenium.webdriver.common.by import By\n",
    "import time\n",
    "import random\n",
    "import pandas as pd\n",
    "from selenium.webdriver.support.ui import WebDriverWait\n",
    "from datetime import datetime, timedelta\n"
   ]
  },
  {
   "cell_type": "markdown",
   "id": "306da03f",
   "metadata": {},
   "source": [
    "# Box Office Scraping"
   ]
  },
  {
   "cell_type": "code",
   "execution_count": null,
   "id": "adb2bc8e",
   "metadata": {},
   "outputs": [],
   "source": [
    "# Setting up selenium\n",
    "driver = webdriver.Chrome()"
   ]
  },
  {
   "cell_type": "code",
   "execution_count": null,
   "id": "4dd1b5c9",
   "metadata": {},
   "outputs": [],
   "source": [
    "# Here is where im setting up my URL and setting it to pull the last 100 days\n",
    "\n",
    "base_url = \"https://www.the-numbers.com/box-office-chart/daily/\"\n",
    "today = datetime.today()\n",
    "daily_urls = []\n",
    "for i in range(100):\n",
    "    date = today - timedelta(days=i)\n",
    "    formatted_date = date.strftime(\"%Y/%m/%d\")\n",
    "    full_url = base_url + formatted_date\n",
    "    daily_urls.append(full_url)\n"
   ]
  },
  {
   "cell_type": "code",
   "execution_count": null,
   "id": "6ee0a5ae",
   "metadata": {},
   "outputs": [],
   "source": [
    "# To compare to stock data, I need to make sure the producer/studio has a publicly traded stock. This is limiting the scraping to my selected studios\n",
    "\n",
    "target_studios = {\n",
    "    \"Disney\", \"Netflix\", \"AMC\", \"Sony\", \"Warner\", \"Paramount\", \"Lionsgate\",\n",
    "    \"Amazon\", \"MGM\", \"Apple\"\n",
    "}\n",
    "all_movies = []\n"
   ]
  },
  {
   "cell_type": "code",
   "execution_count": null,
   "id": "056fe179",
   "metadata": {},
   "outputs": [],
   "source": [
    "for url in daily_urls:\n",
    "    driver.get(url)\n",
    "    time.sleep(3)  \n",
    "\n",
    "    date = \"/\".join(url.split(\"/\")[-3:])  \n",
    "    rows = driver.find_elements(By.CSS_SELECTOR, \"table tbody tr\")\n",
    "\n",
    "    for row in rows:\n",
    "        cells = row.find_elements(By.TAG_NAME, \"td\")\n",
    "        if len(cells) >= 11:\n",
    "            try:\n",
    "                title = cells[2].text.strip()\n",
    "                studio = cells[3].text.strip()\n",
    "\n",
    "                # Daily Gross\n",
    "                gross_str = cells[4].text.strip().replace('$', '').replace(',', '')\n",
    "                daily_gross = float(gross_str) if gross_str else 0\n",
    "\n",
    "                # % Change\n",
    "                pct_change_str = cells[5].text.strip().replace('%', '').replace(',', '').replace('−', '-')\n",
    "                percent_change = float(pct_change_str) if pct_change_str.replace('.', '', 1).lstrip('-').isdigit() else None\n",
    "\n",
    "                # Theaters\n",
    "                theaters_str = cells[7].text.strip().replace(',', '')\n",
    "                theaters = int(theaters_str) if theaters_str.isdigit() else None\n",
    "\n",
    "                # Per Theater\n",
    "                per_theater_str = cells[8].text.strip().replace('$', '').replace(',', '')\n",
    "                per_theater = float(per_theater_str) if per_theater_str else None\n",
    "\n",
    "                # Total Gross\n",
    "                total_gross_str = cells[9].text.strip().replace('$', '').replace(',', '')\n",
    "                total_gross = float(total_gross_str) if total_gross_str else None\n",
    "\n",
    "                # Days in Release\n",
    "                days_str = cells[10].text.strip().replace(',', '')\n",
    "                days_in_release = int(days_str) if days_str.isdigit() else None\n",
    "\n",
    "                # Only include the studios I want\n",
    "                if any(target.lower() in studio.lower() or studio.lower() in target.lower() for target in target_studios):\n",
    "                    all_movies.append({\n",
    "                        \"date\": date,\n",
    "                        \"title\": title,\n",
    "                        \"studio\": studio,\n",
    "                        \"daily_gross\": daily_gross,\n",
    "                        \"percent_change\": percent_change,\n",
    "                        \"theaters\": theaters,\n",
    "                        \"per_theater\": per_theater,\n",
    "                        \"total_gross\": total_gross,\n",
    "                        \"days_in_release\": days_in_release\n",
    "                    })\n",
    "# having issues, need to see the error message\n",
    "            except Exception as e:\n",
    "                print(f\"Skipping row {e}\")\n",
    "\n",
    "driver.quit()"
   ]
  },
  {
   "cell_type": "code",
   "execution_count": 11,
   "id": "c8fad684",
   "metadata": {},
   "outputs": [
    {
     "name": "stdout",
     "output_type": "stream",
     "text": [
      "            date                       title         studio  daily_gross  \\\n",
      "0     2025/04/07           A Minecraft Movie   Warner Bros.   10000000.0   \n",
      "1     2025/04/07               A Working Man  Amazon MGM S…     591163.0   \n",
      "2     2025/04/07         Disney’s Snow White    Walt Disney     409310.0   \n",
      "3     2025/04/07  Captain America: Brave Ne…    Walt Disney     127731.0   \n",
      "4     2025/04/07                   Mickey 17   Warner Bros.      72000.0   \n",
      "...          ...                         ...            ...          ...   \n",
      "1429  2024/12/30                 Nickel Boys  Amazon MGM S…      11791.0   \n",
      "1430  2024/12/30          The Room Next Door  Sony Picture…      11131.0   \n",
      "1431  2024/12/30                  Better Man  Paramount Pi…       6189.0   \n",
      "1432  2024/12/30                 September 5  Paramount Pi…       5990.0   \n",
      "1433  2024/12/30       Venom: The Last Dance  Sony Pictures       2936.0   \n",
      "\n",
      "      percent_change  theaters  per_theater  total_gross  days_in_release  \n",
      "0              -78.0    4263.0       2346.0  172753003.0              4.0  \n",
      "1              -72.0    3262.0        181.0   28466905.0             11.0  \n",
      "2              -77.0    3750.0        109.0   77725601.0             18.0  \n",
      "3              -68.0    1750.0         73.0  199209280.0             53.0  \n",
      "4              -66.0     643.0        112.0   45295175.0             32.0  \n",
      "...              ...       ...          ...          ...              ...  \n",
      "1429            -7.0       5.0       2358.0     228966.0             18.0  \n",
      "1430           -28.0       6.0       1855.0     234820.0             11.0  \n",
      "1431            -6.0       6.0       1032.0      41020.0              6.0  \n",
      "1432           -24.0       5.0       1198.0     211286.0             18.0  \n",
      "1433           -54.0      27.0        109.0  139731469.0             67.0  \n",
      "\n",
      "[1434 rows x 9 columns]\n"
     ]
    }
   ],
   "source": [
    "df = pd.DataFrame(all_movies)\n",
    "print(df)\n",
    "df.to_excel(\"Box_office_data.xlsx\", index=False)"
   ]
  },
  {
   "cell_type": "markdown",
   "id": "558b31e8",
   "metadata": {},
   "source": [
    "# Stock Data Collection"
   ]
  },
  {
   "cell_type": "code",
   "execution_count": 1,
   "id": "91f44547",
   "metadata": {},
   "outputs": [],
   "source": [
    "import yfinance as yf"
   ]
  },
  {
   "cell_type": "code",
   "execution_count": null,
   "id": "0eaaa061",
   "metadata": {},
   "outputs": [],
   "source": [
    "# Weird scenerio where MGM is owned by Amazon occurs\n",
    "\n",
    "studio_tickers = {\n",
    "    \"Disney\": \"DIS\",\n",
    "    \"Netflix\": \"NFLX\",\n",
    "    \"AMC\": \"AMC\",\n",
    "    \"Sony\": \"SONY\",          \n",
    "    \"Warner\": \"WBD\",          \n",
    "    \"Paramount\": \"PARA\",\n",
    "    \"Lionsgate\": \"LGF-A\",     \n",
    "    \"Amazon\": \"AMZN\",\n",
    "    \"MGM\": \"AMZN\",            \n",
    "    \"Apple\": \"AAPL\"\n",
    "}"
   ]
  },
  {
   "cell_type": "code",
   "execution_count": null,
   "id": "cfad7d32",
   "metadata": {},
   "outputs": [],
   "source": [
    "end_date = datetime.today()\n",
    "start_date = end_date - timedelta(days=140)  "
   ]
  },
  {
   "cell_type": "code",
   "execution_count": 5,
   "id": "fca3729d",
   "metadata": {},
   "outputs": [],
   "source": [
    "all_data = []\n"
   ]
  },
  {
   "cell_type": "code",
   "execution_count": null,
   "id": "92209068",
   "metadata": {},
   "outputs": [
    {
     "name": "stdout",
     "output_type": "stream",
     "text": [
      "YF.download() has changed argument auto_adjust default to True\n"
     ]
    },
    {
     "name": "stderr",
     "output_type": "stream",
     "text": [
      "[*********************100%***********************]  1 of 1 completed\n",
      "[*********************100%***********************]  1 of 1 completed\n",
      "[*********************100%***********************]  1 of 1 completed\n",
      "[*********************100%***********************]  1 of 1 completed\n",
      "[*********************100%***********************]  1 of 1 completed\n",
      "[*********************100%***********************]  1 of 1 completed\n",
      "[*********************100%***********************]  1 of 1 completed\n",
      "[*********************100%***********************]  1 of 1 completed\n",
      "[*********************100%***********************]  1 of 1 completed\n",
      "[*********************100%***********************]  1 of 1 completed\n"
     ]
    }
   ],
   "source": [
    "# Grabbing data, print statements to help look for problems I am having\n",
    "\n",
    "for studio, ticker in studio_tickers.items():\n",
    "    try:\n",
    "        df = yf.download(ticker, start=start_date.strftime('%Y-%m-%d'), end=end_date.strftime('%Y-%m-%d'))\n",
    "        if df.empty:\n",
    "            print(\"Problem here\")\n",
    "            continue\n",
    "        if isinstance(df.columns, pd.MultiIndex):\n",
    "            df.columns = [col[0] for col in df.columns]\n",
    "        required_cols = {'Open', 'High', 'Low', 'Close', 'Volume'}\n",
    "        if not required_cols.issubset(df.columns):\n",
    "            print(f\"Problem with my columns\")\n",
    "            continue\n",
    "        df = df.dropna(subset=['Close'])\n",
    "        df.reset_index(inplace=True)\n",
    "        df['Studio'] = studio\n",
    "        df['Ticker'] = ticker\n",
    "        all_data.append(df[['Date', 'Studio', 'Ticker', 'Open', 'High', 'Low', 'Close', 'Volume']])\n",
    "    except Exception as e:\n",
    "        print(f\"error for {studio}: {e}\")\n",
    "\n",
    "if all_data:\n",
    "    stock_df = pd.concat(all_data, ignore_index=True)\n",
    "    stock_df.to_excel(\"Studio_Stock_Prices.xlsx\", index=False)\n",
    "else:\n",
    "    print(\"No stock data\")"
   ]
  },
  {
   "cell_type": "markdown",
   "id": "de320c17",
   "metadata": {},
   "source": [
    "\n",
    "# Cleaning/Merging/Integration"
   ]
  },
  {
   "cell_type": "code",
   "execution_count": 47,
   "id": "d231829e",
   "metadata": {},
   "outputs": [],
   "source": [
    "# Loading in the files\n",
    "stock_df = pd.read_excel(\"Studio_Stock_Prices.xlsx\")\n",
    "box_df = pd.read_excel(\"Box_office_data.xlsx\")"
   ]
  },
  {
   "cell_type": "code",
   "execution_count": 48,
   "id": "266f56f3",
   "metadata": {},
   "outputs": [],
   "source": [
    "# Convert date columns to datetime\n",
    "stock_df[\"Date\"] = pd.to_datetime(stock_df[\"Date\"])\n",
    "box_df[\"date\"] = pd.to_datetime(box_df[\"date\"])"
   ]
  },
  {
   "cell_type": "code",
   "execution_count": null,
   "id": "d22161b7",
   "metadata": {},
   "outputs": [],
   "source": [
    "# mapping based on ownership, synonyms\n",
    "\n",
    "studio_map = {\n",
    "    \"Walt Disney Studios\": \"Disney\",\n",
    "    \"Buena Vista\": \"Disney\",\n",
    "    \"Sony Pictures\": \"Sony\",\n",
    "    \"Warner Bros.\": \"Warner\",\n",
    "    \"Amazon Studios\": \"Amazon\",\n",
    "    \"Apple TV+\": \"Apple\",\n",
    "    \"MGM\": \"Amazon\"\n",
    "}"
   ]
  },
  {
   "cell_type": "code",
   "execution_count": 50,
   "id": "1fe5d881",
   "metadata": {},
   "outputs": [],
   "source": [
    "box_df[\"studio\"] = box_df[\"studio\"].replace(studio_map)"
   ]
  },
  {
   "cell_type": "code",
   "execution_count": 51,
   "id": "c7ce63ad",
   "metadata": {},
   "outputs": [],
   "source": [
    "# Merging the dataframes on date and studio\n",
    "merged_df = pd.merge(\n",
    "    box_df,\n",
    "    stock_df,\n",
    "    how=\"inner\",\n",
    "    left_on=[\"date\", \"studio\"],\n",
    "    right_on=[\"Date\", \"Studio\"]\n",
    ")"
   ]
  },
  {
   "cell_type": "code",
   "execution_count": null,
   "id": "6263f33c",
   "metadata": {},
   "outputs": [
    {
     "ename": "KeyError",
     "evalue": "\"['Date', 'Studio'] not found in axis\"",
     "output_type": "error",
     "traceback": [
      "\u001b[1;31m---------------------------------------------------------------------------\u001b[0m",
      "\u001b[1;31mKeyError\u001b[0m                                  Traceback (most recent call last)",
      "Cell \u001b[1;32mIn[54], line 2\u001b[0m\n\u001b[0;32m      1\u001b[0m \u001b[38;5;66;03m# Dropping duplicate merge columns\u001b[39;00m\n\u001b[1;32m----> 2\u001b[0m merged_df\u001b[38;5;241m.\u001b[39mdrop(columns\u001b[38;5;241m=\u001b[39m[\u001b[38;5;124m\"\u001b[39m\u001b[38;5;124mDate\u001b[39m\u001b[38;5;124m\"\u001b[39m, \u001b[38;5;124m\"\u001b[39m\u001b[38;5;124mStudio\u001b[39m\u001b[38;5;124m\"\u001b[39m], inplace\u001b[38;5;241m=\u001b[39m\u001b[38;5;28;01mTrue\u001b[39;00m)\n\u001b[0;32m      3\u001b[0m deduplicated_df \u001b[38;5;241m=\u001b[39m merged_df\u001b[38;5;241m.\u001b[39mdrop_duplicates()\n",
      "File \u001b[1;32mc:\\Users\\drake\\anaconda3\\Lib\\site-packages\\pandas\\core\\frame.py:5581\u001b[0m, in \u001b[0;36mDataFrame.drop\u001b[1;34m(self, labels, axis, index, columns, level, inplace, errors)\u001b[0m\n\u001b[0;32m   5433\u001b[0m \u001b[38;5;28;01mdef\u001b[39;00m \u001b[38;5;21mdrop\u001b[39m(\n\u001b[0;32m   5434\u001b[0m     \u001b[38;5;28mself\u001b[39m,\n\u001b[0;32m   5435\u001b[0m     labels: IndexLabel \u001b[38;5;241m|\u001b[39m \u001b[38;5;28;01mNone\u001b[39;00m \u001b[38;5;241m=\u001b[39m \u001b[38;5;28;01mNone\u001b[39;00m,\n\u001b[1;32m   (...)\u001b[0m\n\u001b[0;32m   5442\u001b[0m     errors: IgnoreRaise \u001b[38;5;241m=\u001b[39m \u001b[38;5;124m\"\u001b[39m\u001b[38;5;124mraise\u001b[39m\u001b[38;5;124m\"\u001b[39m,\n\u001b[0;32m   5443\u001b[0m ) \u001b[38;5;241m-\u001b[39m\u001b[38;5;241m>\u001b[39m DataFrame \u001b[38;5;241m|\u001b[39m \u001b[38;5;28;01mNone\u001b[39;00m:\n\u001b[0;32m   5444\u001b[0m \u001b[38;5;250m    \u001b[39m\u001b[38;5;124;03m\"\"\"\u001b[39;00m\n\u001b[0;32m   5445\u001b[0m \u001b[38;5;124;03m    Drop specified labels from rows or columns.\u001b[39;00m\n\u001b[0;32m   5446\u001b[0m \n\u001b[1;32m   (...)\u001b[0m\n\u001b[0;32m   5579\u001b[0m \u001b[38;5;124;03m            weight  1.0     0.8\u001b[39;00m\n\u001b[0;32m   5580\u001b[0m \u001b[38;5;124;03m    \"\"\"\u001b[39;00m\n\u001b[1;32m-> 5581\u001b[0m     \u001b[38;5;28;01mreturn\u001b[39;00m \u001b[38;5;28msuper\u001b[39m()\u001b[38;5;241m.\u001b[39mdrop(\n\u001b[0;32m   5582\u001b[0m         labels\u001b[38;5;241m=\u001b[39mlabels,\n\u001b[0;32m   5583\u001b[0m         axis\u001b[38;5;241m=\u001b[39maxis,\n\u001b[0;32m   5584\u001b[0m         index\u001b[38;5;241m=\u001b[39mindex,\n\u001b[0;32m   5585\u001b[0m         columns\u001b[38;5;241m=\u001b[39mcolumns,\n\u001b[0;32m   5586\u001b[0m         level\u001b[38;5;241m=\u001b[39mlevel,\n\u001b[0;32m   5587\u001b[0m         inplace\u001b[38;5;241m=\u001b[39minplace,\n\u001b[0;32m   5588\u001b[0m         errors\u001b[38;5;241m=\u001b[39merrors,\n\u001b[0;32m   5589\u001b[0m     )\n",
      "File \u001b[1;32mc:\\Users\\drake\\anaconda3\\Lib\\site-packages\\pandas\\core\\generic.py:4788\u001b[0m, in \u001b[0;36mNDFrame.drop\u001b[1;34m(self, labels, axis, index, columns, level, inplace, errors)\u001b[0m\n\u001b[0;32m   4786\u001b[0m \u001b[38;5;28;01mfor\u001b[39;00m axis, labels \u001b[38;5;129;01min\u001b[39;00m axes\u001b[38;5;241m.\u001b[39mitems():\n\u001b[0;32m   4787\u001b[0m     \u001b[38;5;28;01mif\u001b[39;00m labels \u001b[38;5;129;01mis\u001b[39;00m \u001b[38;5;129;01mnot\u001b[39;00m \u001b[38;5;28;01mNone\u001b[39;00m:\n\u001b[1;32m-> 4788\u001b[0m         obj \u001b[38;5;241m=\u001b[39m obj\u001b[38;5;241m.\u001b[39m_drop_axis(labels, axis, level\u001b[38;5;241m=\u001b[39mlevel, errors\u001b[38;5;241m=\u001b[39merrors)\n\u001b[0;32m   4790\u001b[0m \u001b[38;5;28;01mif\u001b[39;00m inplace:\n\u001b[0;32m   4791\u001b[0m     \u001b[38;5;28mself\u001b[39m\u001b[38;5;241m.\u001b[39m_update_inplace(obj)\n",
      "File \u001b[1;32mc:\\Users\\drake\\anaconda3\\Lib\\site-packages\\pandas\\core\\generic.py:4830\u001b[0m, in \u001b[0;36mNDFrame._drop_axis\u001b[1;34m(self, labels, axis, level, errors, only_slice)\u001b[0m\n\u001b[0;32m   4828\u001b[0m         new_axis \u001b[38;5;241m=\u001b[39m axis\u001b[38;5;241m.\u001b[39mdrop(labels, level\u001b[38;5;241m=\u001b[39mlevel, errors\u001b[38;5;241m=\u001b[39merrors)\n\u001b[0;32m   4829\u001b[0m     \u001b[38;5;28;01melse\u001b[39;00m:\n\u001b[1;32m-> 4830\u001b[0m         new_axis \u001b[38;5;241m=\u001b[39m axis\u001b[38;5;241m.\u001b[39mdrop(labels, errors\u001b[38;5;241m=\u001b[39merrors)\n\u001b[0;32m   4831\u001b[0m     indexer \u001b[38;5;241m=\u001b[39m axis\u001b[38;5;241m.\u001b[39mget_indexer(new_axis)\n\u001b[0;32m   4833\u001b[0m \u001b[38;5;66;03m# Case for non-unique axis\u001b[39;00m\n\u001b[0;32m   4834\u001b[0m \u001b[38;5;28;01melse\u001b[39;00m:\n",
      "File \u001b[1;32mc:\\Users\\drake\\anaconda3\\Lib\\site-packages\\pandas\\core\\indexes\\base.py:7070\u001b[0m, in \u001b[0;36mIndex.drop\u001b[1;34m(self, labels, errors)\u001b[0m\n\u001b[0;32m   7068\u001b[0m \u001b[38;5;28;01mif\u001b[39;00m mask\u001b[38;5;241m.\u001b[39many():\n\u001b[0;32m   7069\u001b[0m     \u001b[38;5;28;01mif\u001b[39;00m errors \u001b[38;5;241m!=\u001b[39m \u001b[38;5;124m\"\u001b[39m\u001b[38;5;124mignore\u001b[39m\u001b[38;5;124m\"\u001b[39m:\n\u001b[1;32m-> 7070\u001b[0m         \u001b[38;5;28;01mraise\u001b[39;00m \u001b[38;5;167;01mKeyError\u001b[39;00m(\u001b[38;5;124mf\u001b[39m\u001b[38;5;124m\"\u001b[39m\u001b[38;5;132;01m{\u001b[39;00mlabels[mask]\u001b[38;5;241m.\u001b[39mtolist()\u001b[38;5;132;01m}\u001b[39;00m\u001b[38;5;124m not found in axis\u001b[39m\u001b[38;5;124m\"\u001b[39m)\n\u001b[0;32m   7071\u001b[0m     indexer \u001b[38;5;241m=\u001b[39m indexer[\u001b[38;5;241m~\u001b[39mmask]\n\u001b[0;32m   7072\u001b[0m \u001b[38;5;28;01mreturn\u001b[39;00m \u001b[38;5;28mself\u001b[39m\u001b[38;5;241m.\u001b[39mdelete(indexer)\n",
      "\u001b[1;31mKeyError\u001b[0m: \"['Date', 'Studio'] not found in axis\""
     ]
    }
   ],
   "source": [
    "# Dropping duplicate merge columns\n",
    "merged_df.drop(columns=[\"Date\", \"Studio\"], inplace=True)\n",
    "\n"
   ]
  },
  {
   "cell_type": "code",
   "execution_count": 55,
   "id": "1f7d75dc",
   "metadata": {},
   "outputs": [],
   "source": [
    "deduplicated_df = merged_df.drop_duplicates()"
   ]
  },
  {
   "cell_type": "code",
   "execution_count": 57,
   "id": "11b8ef11",
   "metadata": {},
   "outputs": [
    {
     "data": {
      "text/html": [
       "<div>\n",
       "<style scoped>\n",
       "    .dataframe tbody tr th:only-of-type {\n",
       "        vertical-align: middle;\n",
       "    }\n",
       "\n",
       "    .dataframe tbody tr th {\n",
       "        vertical-align: top;\n",
       "    }\n",
       "\n",
       "    .dataframe thead th {\n",
       "        text-align: right;\n",
       "    }\n",
       "</style>\n",
       "<table border=\"1\" class=\"dataframe\">\n",
       "  <thead>\n",
       "    <tr style=\"text-align: right;\">\n",
       "      <th></th>\n",
       "      <th>date</th>\n",
       "      <th>title</th>\n",
       "      <th>studio</th>\n",
       "      <th>daily_gross</th>\n",
       "      <th>percent_change</th>\n",
       "      <th>theaters</th>\n",
       "      <th>per_theater</th>\n",
       "      <th>total_gross</th>\n",
       "      <th>days_in_release</th>\n",
       "      <th>Ticker</th>\n",
       "      <th>Open</th>\n",
       "      <th>High</th>\n",
       "      <th>Low</th>\n",
       "      <th>Close</th>\n",
       "      <th>Volume</th>\n",
       "    </tr>\n",
       "  </thead>\n",
       "  <tbody>\n",
       "    <tr>\n",
       "      <th>0</th>\n",
       "      <td>2025-04-07</td>\n",
       "      <td>A Minecraft Movie</td>\n",
       "      <td>Warner</td>\n",
       "      <td>10000000</td>\n",
       "      <td>-78.0</td>\n",
       "      <td>4263.0</td>\n",
       "      <td>2346.0</td>\n",
       "      <td>172753003</td>\n",
       "      <td>4.0</td>\n",
       "      <td>WBD</td>\n",
       "      <td>7.80</td>\n",
       "      <td>8.790000</td>\n",
       "      <td>7.65</td>\n",
       "      <td>8.09</td>\n",
       "      <td>58591500</td>\n",
       "    </tr>\n",
       "    <tr>\n",
       "      <th>3</th>\n",
       "      <td>2025-04-07</td>\n",
       "      <td>Mickey 17</td>\n",
       "      <td>Warner</td>\n",
       "      <td>72000</td>\n",
       "      <td>-66.0</td>\n",
       "      <td>643.0</td>\n",
       "      <td>112.0</td>\n",
       "      <td>45295175</td>\n",
       "      <td>32.0</td>\n",
       "      <td>WBD</td>\n",
       "      <td>7.80</td>\n",
       "      <td>8.790000</td>\n",
       "      <td>7.65</td>\n",
       "      <td>8.09</td>\n",
       "      <td>58591500</td>\n",
       "    </tr>\n",
       "    <tr>\n",
       "      <th>6</th>\n",
       "      <td>2025-04-07</td>\n",
       "      <td>Paddington in Peru</td>\n",
       "      <td>Sony</td>\n",
       "      <td>12836</td>\n",
       "      <td>-83.0</td>\n",
       "      <td>402.0</td>\n",
       "      <td>32.0</td>\n",
       "      <td>45634908</td>\n",
       "      <td>53.0</td>\n",
       "      <td>SONY</td>\n",
       "      <td>20.42</td>\n",
       "      <td>22.190001</td>\n",
       "      <td>20.42</td>\n",
       "      <td>21.24</td>\n",
       "      <td>10610300</td>\n",
       "    </tr>\n",
       "    <tr>\n",
       "      <th>9</th>\n",
       "      <td>2025-04-04</td>\n",
       "      <td>A Minecraft Movie</td>\n",
       "      <td>Warner</td>\n",
       "      <td>57113324</td>\n",
       "      <td>NaN</td>\n",
       "      <td>4263.0</td>\n",
       "      <td>13397.0</td>\n",
       "      <td>57113324</td>\n",
       "      <td>1.0</td>\n",
       "      <td>WBD</td>\n",
       "      <td>8.85</td>\n",
       "      <td>8.860000</td>\n",
       "      <td>8.03</td>\n",
       "      <td>8.07</td>\n",
       "      <td>57367600</td>\n",
       "    </tr>\n",
       "    <tr>\n",
       "      <th>12</th>\n",
       "      <td>2025-04-04</td>\n",
       "      <td>Mickey 17</td>\n",
       "      <td>Warner</td>\n",
       "      <td>244816</td>\n",
       "      <td>NaN</td>\n",
       "      <td>643.0</td>\n",
       "      <td>381.0</td>\n",
       "      <td>44687933</td>\n",
       "      <td>29.0</td>\n",
       "      <td>WBD</td>\n",
       "      <td>8.85</td>\n",
       "      <td>8.860000</td>\n",
       "      <td>8.03</td>\n",
       "      <td>8.07</td>\n",
       "      <td>57367600</td>\n",
       "    </tr>\n",
       "  </tbody>\n",
       "</table>\n",
       "</div>"
      ],
      "text/plain": [
       "         date               title  studio  daily_gross  percent_change  \\\n",
       "0  2025-04-07   A Minecraft Movie  Warner     10000000           -78.0   \n",
       "3  2025-04-07           Mickey 17  Warner        72000           -66.0   \n",
       "6  2025-04-07  Paddington in Peru    Sony        12836           -83.0   \n",
       "9  2025-04-04   A Minecraft Movie  Warner     57113324             NaN   \n",
       "12 2025-04-04           Mickey 17  Warner       244816             NaN   \n",
       "\n",
       "    theaters  per_theater  total_gross  days_in_release Ticker   Open  \\\n",
       "0     4263.0       2346.0    172753003              4.0    WBD   7.80   \n",
       "3      643.0        112.0     45295175             32.0    WBD   7.80   \n",
       "6      402.0         32.0     45634908             53.0   SONY  20.42   \n",
       "9     4263.0      13397.0     57113324              1.0    WBD   8.85   \n",
       "12     643.0        381.0     44687933             29.0    WBD   8.85   \n",
       "\n",
       "         High    Low  Close    Volume  \n",
       "0    8.790000   7.65   8.09  58591500  \n",
       "3    8.790000   7.65   8.09  58591500  \n",
       "6   22.190001  20.42  21.24  10610300  \n",
       "9    8.860000   8.03   8.07  57367600  \n",
       "12   8.860000   8.03   8.07  57367600  "
      ]
     },
     "execution_count": 57,
     "metadata": {},
     "output_type": "execute_result"
    }
   ],
   "source": [
    "deduplicated_df.to_excel(\"Merged_BoxOffice_Stock.xlsx\", index=False)\n",
    "deduplicated_df.head()"
   ]
  },
  {
   "cell_type": "code",
   "execution_count": null,
   "id": "6587a5a1",
   "metadata": {},
   "outputs": [],
   "source": []
  }
 ],
 "metadata": {
  "kernelspec": {
   "display_name": "base",
   "language": "python",
   "name": "python3"
  },
  "language_info": {
   "codemirror_mode": {
    "name": "ipython",
    "version": 3
   },
   "file_extension": ".py",
   "mimetype": "text/x-python",
   "name": "python",
   "nbconvert_exporter": "python",
   "pygments_lexer": "ipython3",
   "version": "3.12.7"
  }
 },
 "nbformat": 4,
 "nbformat_minor": 5
}

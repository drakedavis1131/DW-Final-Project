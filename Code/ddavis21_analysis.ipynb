{
 "cells": [
  {
   "cell_type": "markdown",
   "id": "a3979ff0",
   "metadata": {},
   "source": [
    "# Drake Davis Final Project Analysis Notebook"
   ]
  },
  {
   "cell_type": "code",
   "execution_count": 19,
   "id": "af843ddb",
   "metadata": {},
   "outputs": [],
   "source": [
    "# Loading in packages/important setup\n",
    "\n",
    "import pandas as pd, numpy as np, scipy.stats as st, statsmodels.api as sm\n",
    "from statsmodels.formula.api import ols\n",
    "from sklearn.linear_model import RidgeCV, LassoCV, LinearRegression\n",
    "from sklearn.metrics import r2_score\n",
    "import statsmodels.formula.api as smf\n",
    "from sklearn.ensemble import RandomForestRegressor\n",
    "from sklearn.metrics import mean_squared_error\n",
    "from sklearn.model_selection import train_test_split, cross_val_score\n",
    "from sklearn.pipeline import make_pipeline\n",
    "from sklearn.preprocessing import StandardScaler\n",
    "from sklearn.linear_model import LogisticRegression          \n",
    "from sklearn.neighbors import KNeighborsClassifier            \n",
    "from sklearn.metrics import accuracy_score, roc_auc_score     \n",
    "import matplotlib.pyplot as plt     \n",
    "import seaborn as sns                \n",
    "from sklearn.ensemble import RandomForestClassifier   \n",
    "\n",
    "FILE = \"movies_boxoffice_2017_2020_merged.csv\"\n",
    "df   = pd.read_csv(FILE, parse_dates=[\"calendar_date\", \"release_date\"])\n"
   ]
  },
  {
   "cell_type": "code",
   "execution_count": 20,
   "id": "75361ea3",
   "metadata": {},
   "outputs": [],
   "source": [
    "df[\"per_theater\"] = df[\"daily_gross\"] / df[\"theaters\"]\n",
    "df[\"quarter\"]     = df[\"calendar_date\"].dt.quarter"
   ]
  },
  {
   "cell_type": "markdown",
   "id": "6b729bbc",
   "metadata": {},
   "source": [
    "### Q1: Elasticity vs. theaters "
   ]
  },
  {
   "cell_type": "code",
   "execution_count": 21,
   "id": "88478cbe",
   "metadata": {},
   "outputs": [
    {
     "name": "stdout",
     "output_type": "stream",
     "text": [
      "\n",
      "Q1Elasticity  (theaters) = 1.016, R squared = 0.644,  n = 303\n"
     ]
    },
    {
     "data": {
      "text/plain": [
       "<Figure size 640x480 with 0 Axes>"
      ]
     },
     "metadata": {},
     "output_type": "display_data"
    }
   ],
   "source": [
    "# How much does screen count drive opening‑day revenue?\n",
    "\n",
    "\n",
    "q1 = df[df[\"daily_gross\"] > 0].copy()\n",
    "X1 = np.log(q1[[\"theaters\"]])\n",
    "y1 = np.log(q1[\"daily_gross\"])\n",
    "\n",
    "regr1 = LinearRegression().fit(X1, y1)\n",
    "print(f\"\\nQ1Elasticity  (theaters) = {regr1.coef_[0]:.3f}, \"\n",
    "      f\"R squared = {r2_score(y1, regr1.predict(X1)):.3f},  n = {len(q1)}\")\n",
    "\n",
    "sns.regplot(x=np.log(q1[\"theaters\"]), y=np.log(q1[\"daily_gross\"]),\n",
    "            scatter_kws={\"alpha\":.4}, line_kws={\"color\":\"red\"})\n",
    "plt.xlabel(\"log(Theaters)\"); plt.ylabel(\"log(Opening Gross)\")\n",
    "plt.title(\"Opening Day Gross vs. Theaters (log‑log)\")\n",
    "plt.tight_layout(); plt.savefig(\"plot_q1_theaters.png\", dpi=300); plt.clf()"
   ]
  },
  {
   "cell_type": "markdown",
   "id": "300e1969",
   "metadata": {},
   "source": [
    "#### Q2: Elasticity of opening day gross with respect to budget"
   ]
  },
  {
   "cell_type": "code",
   "execution_count": 22,
   "id": "919af152",
   "metadata": {},
   "outputs": [
    {
     "name": "stdout",
     "output_type": "stream",
     "text": [
      "Q2 Elasticity (budget)   = 0.814, R Squared = 0.475,  n = 30\n"
     ]
    }
   ],
   "source": [
    "q2 = (df.dropna(subset=[\"budget\",\"daily_gross\"])\n",
    "        .query(\"budget>0 and daily_gross>0\").copy())\n",
    "X2 = np.log(q2[[\"budget\"]])\n",
    "y2 = np.log(q2[\"daily_gross\"])\n",
    "\n",
    "regr2 = LinearRegression().fit(X2, y2)\n",
    "print(f\"Q2 Elasticity (budget)   = {regr2.coef_[0]:.3f}, \"\n",
    "      f\"R Squared = {r2_score(y2, regr2.predict(X2)):.3f},  n = {len(q2)}\")"
   ]
  },
  {
   "cell_type": "code",
   "execution_count": 23,
   "id": "0454c27b",
   "metadata": {},
   "outputs": [
    {
     "name": "stdout",
     "output_type": "stream",
     "text": [
      "    Model      RMSE        R²\n",
      "0  Linear  0.834098  0.453949\n",
      "1      RF  0.866764  0.410342\n",
      "2   Ridge  0.951152  0.289934\n",
      "3   Lasso  1.063478  0.112321\n"
     ]
    },
    {
     "name": "stderr",
     "output_type": "stream",
     "text": [
      "c:\\Users\\drake\\anaconda3\\Lib\\site-packages\\pandas\\core\\arraylike.py:399: RuntimeWarning: divide by zero encountered in log\n",
      "  result = getattr(ufunc, method)(*inputs, **kwargs)\n"
     ]
    }
   ],
   "source": [
    "# More machine learning\n",
    "\n",
    "f = pd.read_csv(\"movies_boxoffice_2017_2020_merged.csv\",\n",
    "                 parse_dates=[\"calendar_date\",\"release_date\"])\n",
    "\n",
    "df[\"log_budget\"]  = np.log(df[\"budget\"])\n",
    "df[\"log_open\"]    = np.log(df[\"daily_gross\"])\n",
    "df[\"log_theater\"] = np.log(df[\"theaters\"])\n",
    "df[\"quarter\"]     = df[\"calendar_date\"].dt.quarter\n",
    "\n",
    "df_q2 = (df.dropna(subset=[\"budget\",\"daily_gross\"])\n",
    "           .query(\"budget > 0 and daily_gross > 0\")\n",
    "           .copy())\n",
    "\n",
    "# Feature matrix & target \n",
    "X = df_q2[[\"log_budget\", \"log_theater\", \"quarter\"]]\n",
    "y = df_q2[\"log_open\"]\n",
    "\n",
    "X_train, X_test, y_train, y_test = train_test_split(\n",
    "    X, y, test_size=0.25, random_state=42\n",
    ")\n",
    "\n",
    "# Define models\n",
    "models = {\n",
    "    \"Linear\": LinearRegression(),\n",
    "    \"Ridge\":  RidgeCV(alphas=np.logspace(-3,3,13)),\n",
    "    \"Lasso\":  LassoCV(alphas=np.logspace(-3,3,13), max_iter=5000),\n",
    "    \"RF\":     RandomForestRegressor(n_estimators=200, random_state=42)\n",
    "}\n",
    "\n",
    "results = []\n",
    "for name, mdl in models.items():\n",
    "    pipe = make_pipeline(StandardScaler(with_mean=False), mdl)\n",
    "    pipe.fit(X_train, y_train)\n",
    "    preds = pipe.predict(X_test)\n",
    "    rmse = mean_squared_error(y_test, preds, squared=False)\n",
    "    r2   = r2_score(y_test, preds)\n",
    "    results.append({\"Model\":name, \"RMSE\":rmse, \"R²\":r2})\n",
    "\n",
    "perf = (pd.DataFrame(results)\n",
    "          .sort_values(\"R²\", ascending=False)\n",
    "          .reset_index(drop=True))\n",
    "print(perf)"
   ]
  },
  {
   "cell_type": "code",
   "execution_count": 24,
   "id": "e74f8e11",
   "metadata": {},
   "outputs": [
    {
     "data": {
      "image/png": "[encoded data removed]",
      "text/plain": [
       "<Figure size 600x400 with 2 Axes>"
      ]
     },
     "metadata": {},
     "output_type": "display_data"
    }
   ],
   "source": [
    "# Plot \n",
    "\n",
    "perf.set_index(\"Model\")[[\"R²\",\"RMSE\"]].plot(kind=\"bar\", secondary_y=\"RMSE\",\n",
    "                                            figsize=(6,4), legend=True)\n",
    "plt.title(\"Model Comparison: Predicting log(Opening Gross)\")\n",
    "plt.tight_layout(); plt.savefig(\"plot_ml_comparison.png\", dpi=300)\n",
    "plt.show()"
   ]
  },
  {
   "cell_type": "markdown",
   "id": "74293bbc",
   "metadata": {},
   "source": [
    "### Q3: Does per‑theater efficiency vary by calendar quarter?"
   ]
  },
  {
   "cell_type": "code",
   "execution_count": 25,
   "id": "81d19570",
   "metadata": {},
   "outputs": [
    {
     "name": "stdout",
     "output_type": "stream",
     "text": [
      "\n",
      "Q3 Welch-ANOVA on per-theater by quarter\n",
      "===================================================================================\n",
      "                      coef    std err          z      P>|z|      [0.025      0.975]\n",
      "-----------------------------------------------------------------------------------\n",
      "Intercept        1366.8336    200.701      6.810      0.000     973.467    1760.200\n",
      "C(quarter)[T.2]   435.8882    401.307      1.086      0.277    -350.660    1222.436\n",
      "C(quarter)[T.3]   244.7537    436.664      0.561      0.575    -611.093    1100.600\n",
      "C(quarter)[T.4]   612.6896    555.468      1.103      0.270    -476.008    1701.387\n",
      "===================================================================================\n"
     ]
    },
    {
     "data": {
      "text/plain": [
       "<Figure size 640x480 with 0 Axes>"
      ]
     },
     "metadata": {},
     "output_type": "display_data"
    }
   ],
   "source": [
    "anova = smf.ols(\"per_theater ~ C(quarter)\", data=df).fit(cov_type=\"HC3\")\n",
    "print(\"\\nQ3 Welch-ANOVA on per-theater by quarter\")\n",
    "print(anova.summary().tables[1])\n",
    "\n",
    "sns.boxplot(x=\"quarter\", y=\"per_theater\", data=df)\n",
    "plt.title(\"Q3: Per-Theater Gross by Quarter (2017-2020)\")\n",
    "plt.tight_layout(); plt.savefig(\"plot_q3_boxplot.png\", dpi=300); plt.clf()"
   ]
  },
  {
   "cell_type": "markdown",
   "id": "06d1477a",
   "metadata": {},
   "source": [
    "### Q4: Which major studio is most efficient per theater?\n"
   ]
  },
  {
   "cell_type": "code",
   "execution_count": 26,
   "id": "a24c0d98",
   "metadata": {},
   "outputs": [
    {
     "name": "stdout",
     "output_type": "stream",
     "text": [
      "\n",
      "Q4 Studio per-theater averages (95 % CI, alias-corrected)\n",
      "                     mean  count       ci_low        ci_hi\n",
      "major                                                     \n",
      "Disney        2706.711943     41  1759.075326  3654.348559\n",
      "Sony          1767.503733     81   699.745915  2835.261551\n",
      "Warner Bros.  1597.587126     71   923.818849  2271.355403\n",
      "Universal     1390.937505     64   673.574732  2108.300279\n",
      "Paramount     1253.017057     46   536.895738  1969.138375\n"
     ]
    }
   ],
   "source": [
    "def canonical_major(studio):\n",
    "    s = str(studio).lower()\n",
    "    if \"warner\"    in s: return \"Warner Bros.\"\n",
    "    if \"universal\" in s: return \"Universal\"\n",
    "    if \"paramount\" in s: return \"Paramount\"\n",
    "    if \"sony\" in s or \"columbia\" in s: return \"Sony\"\n",
    "    if \"disney\" in s or \"buena vista\" in s: return \"Disney\"\n",
    "    return None               \n",
    "\n",
    "df[\"major\"] = df[\"studio\"].apply(canonical_major)\n",
    "\n",
    "stats = (df.dropna(subset=[\"major\", \"per_theater\"])\n",
    "           .groupby(\"major\")[\"per_theater\"]\n",
    "           .agg([\"mean\",\"count\",\"std\"])\n",
    "           .assign(se=lambda d: d[\"std\"]/np.sqrt(d[\"count\"]),\n",
    "                   ci_low=lambda d: d[\"mean\"]-1.96*d[\"se\"],\n",
    "                   ci_hi =lambda d: d[\"mean\"]+1.96*d[\"se\"])\n",
    "           .sort_values(\"mean\", ascending=False))\n",
    "\n",
    "print(\"\\nQ4 Studio per-theater averages (95 % CI, alias-corrected)\")\n",
    "print(stats[[\"mean\",\"count\",\"ci_low\",\"ci_hi\"]])"
   ]
  },
  {
   "cell_type": "markdown",
   "id": "8d9a42c2",
   "metadata": {},
   "source": [
    "### Q5 · Can we classify a movie as an opening‑day **“hit”** vs **“flop”?  \n",
    "We treat “hit” = opening‑day (log) gross ≥ the 75ᵗʰ percentile of the sample,  \n",
    "and train three lecture‑covered classifiers (Logistic Regression, K‑NN, Random Forest).  \n",
    "Accuracy and ROC AUC are reported on a 25 % hold‑out test set.\n"
   ]
  },
  {
   "cell_type": "code",
   "execution_count": 27,
   "id": "f6b34ec6",
   "metadata": {},
   "outputs": [
    {
     "name": "stdout",
     "output_type": "stream",
     "text": [
      "\n",
      "Q5 Hit vs Flop classification (test set)\n",
      "     Model  Accuracy   ROC_AUC\n",
      "0     KNN     0.875  0.916667\n",
      "1  LogReg     0.750  0.833333\n",
      "2      RF     0.875  0.666667\n"
     ]
    },
    {
     "data": {
      "image/png": "[encoded data removed]",
      "text/plain": [
       "<Figure size 500x300 with 1 Axes>"
      ]
     },
     "metadata": {},
     "output_type": "display_data"
    }
   ],
   "source": [
    "\n",
    "# 1) Label: 1 = top‑quartile opening‑day gross, 0 otherwise\n",
    "q75 = df_q2[\"log_open\"].quantile(0.75)\n",
    "df_q2[\"hit\"] = (df_q2[\"log_open\"] >= q75).astype(int)\n",
    "\n",
    "# 2) Features and target\n",
    "X_cls = df_q2[[\"log_budget\", \"log_theater\", \"quarter\"]]\n",
    "y_cls = df_q2[\"hit\"]\n",
    "\n",
    "X_train, X_test, y_train, y_test = train_test_split(\n",
    "    X_cls, y_cls, test_size=0.25, random_state=42, stratify=y_cls\n",
    ")\n",
    "\n",
    "\n",
    "models_cls = {\n",
    "    \"LogReg\": LogisticRegression(max_iter=2000),\n",
    "    \"KNN\":    KNeighborsClassifier(n_neighbors=7),\n",
    "    \"RF\":     RandomForestClassifier(n_estimators=300, random_state=42)\n",
    "}\n",
    "\n",
    "results_cls = []\n",
    "for name, mdl in models_cls.items():\n",
    "    pipe = make_pipeline(StandardScaler(with_mean=False), mdl)\n",
    "    pipe.fit(X_train, y_train)\n",
    "    preds  = pipe.predict(X_test)\n",
    "    proba  = pipe.predict_proba(X_test)[:, 1] if hasattr(pipe, \"predict_proba\") else preds\n",
    "    \n",
    "    acc   = accuracy_score(y_test, preds)\n",
    "    auc   = roc_auc_score(y_test, proba)\n",
    "    results_cls.append({\"Model\": name, \"Accuracy\": acc, \"ROC_AUC\": auc})\n",
    "\n",
    "cls_tbl = (pd.DataFrame(results_cls)\n",
    "             .sort_values(\"ROC_AUC\", ascending=False)\n",
    "             .reset_index(drop=True))\n",
    "\n",
    "print(\"\\nQ5 Hit vs Flop classification (test set)\\n\", cls_tbl)\n",
    "\n",
    "# 4) Plot: accuracy & ROC AUC\n",
    "cls_tbl.set_index(\"Model\")[[\"Accuracy\", \"ROC_AUC\"]].plot(kind=\"bar\", figsize=(5,3))\n",
    "plt.title(\"Hit vs Flop Classification Metrics\")\n",
    "plt.tight_layout(); plt.savefig(\"plot_q5_classifiers.png\", dpi=300); plt.show()\n"
   ]
  },
  {
   "cell_type": "markdown",
   "id": "0dc60c99",
   "metadata": {},
   "source": []
  },
  {
   "cell_type": "markdown",
   "id": "ae12912f",
   "metadata": {},
   "source": []
  },
  {
   "cell_type": "markdown",
   "id": "41a805b4",
   "metadata": {},
   "source": []
  },
  {
   "cell_type": "markdown",
   "id": "f1a91790",
   "metadata": {},
   "source": []
  },
  {
   "cell_type": "markdown",
   "id": "a0648ad2",
   "metadata": {},
   "source": []
  }
 ],
 "metadata": {
  "kernelspec": {
   "display_name": "base",
   "language": "python",
   "name": "python3"
  },
  "language_info": {
   "codemirror_mode": {
    "name": "ipython",
    "version": 3
   },
   "file_extension": ".py",
   "mimetype": "text/x-python",
   "name": "python",
   "nbconvert_exporter": "python",
   "pygments_lexer": "ipython3",
   "version": "3.12.7"
  }
 },
 "nbformat": 4,
 "nbformat_minor": 5
}
